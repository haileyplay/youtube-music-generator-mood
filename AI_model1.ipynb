
from flask import Flask, request, jsonify
from transformers import pipeline
from ytmusicapi import YTMusic

app = Flask(__name__)

# Define the zero-shot classification pipeline
zero_shot_classifier = pipeline("zero-shot-classification", model="facebook/bart-large-mnli")
candidate_labels = ["happy", "anger", "worried", "sad", "inspired", "focused", "sleepy", "tired", "frustrated"]

# Initialize YouTube Music API
ytmusic = YTMusic()

def map_sentiment_to_mood(sentiment_label):
    mood_mapping = {
        "happy": "energetic",
        "focused": "concentration",
        "sad": "melancholy",
        "tired": "calm",
        "sleepy": "relaxing",
        "frustrated": "stress relief",
        "inspired": "motivational",
    }
    return mood_mapping.get(sentiment_label, "uplifting")

# Function to search tracks with URLs
def search_tracks_with_urls(query, limit=10):
    results = ytmusic.search(query, filter="songs", limit=limit)
    tracks_info = []
    for track in results[:limit]:
        title = track["title"]
        artist = track["artists"][0]["name"] if "artists" in track and track["artists"] else "Unknown Artist"
        video_id = track["videoId"]
        url = f"https://music.youtube.com/watch?v={video_id}"
        tracks_info.append({"title": title, "artist": artist, "url": url})
    return tracks_info

# Flask route to process mood
@app.route('/mood', methods=['POST'])
def mood():
    data = request.json
    text = data.get('text', '')

    if not text:
        return jsonify({"error": "No text provided"}), 400

    result = zero_shot_classifier(text, candidate_labels)
    top_label = max(result['labels'], key=lambda label: result['scores'][result['labels'].index(label)])
    desired_mood = map_sentiment_to_mood(top_label)

    # Fetch tracks based on the desired mood
    tracks = search_tracks_with_urls(desired_mood)

    #Return the response as JSON
    return jsonify({
        "text": text,
        "sentiment": top_label,
        "mood": desired_mood,
        "tracks": tracks
    })


if __name__ == "__main__":
    app.run(host="127.0.0.1", port=3001)
